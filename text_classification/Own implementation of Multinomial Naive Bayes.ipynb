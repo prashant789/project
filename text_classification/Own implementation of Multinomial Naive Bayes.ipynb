{
 "cells": [
  {
   "cell_type": "markdown",
   "metadata": {},
   "source": [
    "# Own implementation of Multinomial Naive Bayes"
   ]
  },
  {
   "cell_type": "code",
   "execution_count": 1,
   "metadata": {},
   "outputs": [],
   "source": [
    "import numpy as np\n",
    "import pandas as pd\n",
    "import math\n",
    "from sklearn.naive_bayes import MultinomialNB"
   ]
  },
  {
   "cell_type": "markdown",
   "metadata": {},
   "source": [
    "# Loading the Dataframes"
   ]
  },
  {
   "cell_type": "code",
   "execution_count": 2,
   "metadata": {},
   "outputs": [],
   "source": [
    "train_df = pd.read_csv(\"TrainDataFrame.csv\")\n",
    "test_df = pd.read_csv(\"TestDataFrame.csv\")"
   ]
  },
  {
   "cell_type": "code",
   "execution_count": 3,
   "metadata": {
    "scrolled": true
   },
   "outputs": [],
   "source": [
    "v = train_df.shape[1]-2"
   ]
  },
  {
   "cell_type": "markdown",
   "metadata": {},
   "source": [
    "# Implementation"
   ]
  },
  {
   "cell_type": "code",
   "execution_count": 4,
   "metadata": {},
   "outputs": [],
   "source": [
    "class MultiNB:\n",
    "    \n",
    "    \n",
    "    def __init__(self):\n",
    "        self.dd = None\n",
    "    \n",
    "    \n",
    "    def fit(self, train_df):\n",
    "        \n",
    "        self.dd = {}\n",
    "        cls = set(train_df[\"Output\"])\n",
    "        \n",
    "        for i in cls:\n",
    "            \n",
    "            self.dd[i] = dict(((train_df.loc[train_df[\"Output\"] == i]).iloc[:,:-1]).sum())\n",
    "            self.dd[i][\"TOTAL\"] = sum(self.dd[i].values())\n",
    "            \n",
    "        #print(\"Multinomial Naive Bayes fit\")\n",
    "        \n",
    "        \n",
    "    def probability(self, data, category_d, total):\n",
    "        \n",
    "        pt = 0\n",
    "        for i in category_d:\n",
    "            \n",
    "            if i == \"TOTAL\":\n",
    "                continue\n",
    "            pt -= np.log(((category_d[i]+1)/total) ** data[i])\n",
    "            \n",
    "        return pt\n",
    "    \n",
    "                 \n",
    "    def helper(self, data):\n",
    "        \n",
    "        prob = math.inf\n",
    "        cls = \"\"\n",
    "        \n",
    "        for i in self.dd.keys():\n",
    "            \n",
    "            p = self.probability(data, self.dd[i], self.dd[i][\"TOTAL\"]+v)\n",
    "            if p < prob:\n",
    "                prob = p\n",
    "                cls = i\n",
    "                \n",
    "        return cls\n",
    "    \n",
    "    \n",
    "    def predict(self, x_t):\n",
    "        \n",
    "        y_p = []\n",
    "        row = x_t.shape[0]\n",
    "        j = 0\n",
    "        \n",
    "        for i in range(row):\n",
    "            \n",
    "            #print(j)\n",
    "            j += 1\n",
    "            data = dict(x_t.iloc[i])\n",
    "            y_p.append(self.helper(data))\n",
    "            \n",
    "        return y_p\n",
    "    \n",
    "    \n",
    "    def score(self, x_test, y_test):\n",
    "        \n",
    "        y_p = self.predict(x_test)\n",
    "        \n",
    "        return (y_p == y_test).sum() / len(y_p)"
   ]
  },
  {
   "cell_type": "markdown",
   "metadata": {},
   "source": [
    "# Comparison"
   ]
  },
  {
   "cell_type": "code",
   "execution_count": null,
   "metadata": {
    "scrolled": true
   },
   "outputs": [
    {
     "name": "stderr",
     "output_type": "stream",
     "text": [
      "C:\\Users\\Percy\\Anaconda3\\lib\\site-packages\\ipykernel_launcher.py:28: RuntimeWarning: divide by zero encountered in log\n"
     ]
    }
   ],
   "source": [
    "mnb1 = MultiNB()\n",
    "mnb2 = MultinomialNB()\n",
    "\n",
    "x = train_df.iloc[:,1:-1]\n",
    "xa = x.copy()\n",
    "y = train_df.iloc[:,-1]\n",
    "xa[\"Output\"] = y\n",
    "\n",
    "mnb1.fit(xa)\n",
    "mnb2.fit(x,y)\n",
    "\n",
    "x_t = test_df.iloc[:,1:-1]\n",
    "y_t = test_df.iloc[:,-1]\n",
    "\n",
    "print(\"Score with own implementation of Multinomial Naive Bayes =\", mnb1.score(x_t,y_t))\n",
    "print(\"Score with sklearn Multinomial Naive Bayes =\", mnb2.score(x_t,y_t))"
   ]
  },
  {
   "cell_type": "code",
   "execution_count": null,
   "metadata": {},
   "outputs": [],
   "source": []
  },
  {
   "cell_type": "code",
   "execution_count": null,
   "metadata": {},
   "outputs": [],
   "source": []
  }
 ],
 "metadata": {
  "kernelspec": {
   "display_name": "Python 3",
   "language": "python",
   "name": "python3"
  },
  "language_info": {
   "codemirror_mode": {
    "name": "ipython",
    "version": 3
   },
   "file_extension": ".py",
   "mimetype": "text/x-python",
   "name": "python",
   "nbconvert_exporter": "python",
   "pygments_lexer": "ipython3",
   "version": "3.6.5"
  }
 },
 "nbformat": 4,
 "nbformat_minor": 2
}
